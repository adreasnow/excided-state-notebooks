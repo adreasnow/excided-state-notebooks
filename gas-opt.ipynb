{
 "cells": [
  {
   "cell_type": "code",
   "execution_count": 5,
   "metadata": {},
   "outputs": [
    {
     "data": {
      "text/html": [
       "<style>\n",
       "    .widget-label { min-width: 20ex !important; }\n",
       "    .widget-inline-hbox { min-width: 40ex !important; }\n",
       "</style>"
      ],
      "text/plain": [
       "<IPython.core.display.HTML object>"
      ]
     },
     "metadata": {},
     "output_type": "display_data"
    },
    {
     "data": {
      "application/vnd.jupyter.widget-view+json": {
       "model_id": "0fd36daa59fa485ea213f57b0579658c",
       "version_major": 2,
       "version_minor": 0
      },
      "text/plain": [
       "interactive(children=(IntText(value=64, description='Memory'), IntText(value=16, description='Cores'), Checkbo…"
      ]
     },
     "metadata": {},
     "output_type": "display_data"
    }
   ],
   "source": [
    "import resources as r\n",
    "\n",
    "import ipywidgets as widgets\n",
    "from IPython.display import HTML, display\n",
    "\n",
    "display(HTML('''<style>\n",
    "    .widget-label { min-width: 20ex !important; }\n",
    "    .widget-inline-hbox { min-width: 40ex !important; }\n",
    "</style>'''))\n",
    "\n",
    "layout = widgets.Layout(width='50%')\n",
    "\n",
    "fluorophores, solvents, methods = r.fluorophores_solvents_methods()\n",
    "basisOptions = r.Basis\n",
    "methodOptions = r.Methods\n",
    "\n",
    "def submitORCA(memory:int, cores:int, partner:bool, jobType:r.Jobs, stateList:list[r.States], grid:r.Grids, basisList:list[r.Basis], methodList:list[r.Methods], \n",
    "               fluorophoreList:list[r.Fluorophores], uses0:bool, submit:bool, resubmit:bool, resetStatus:bool) -> None:\n",
    "    with r.statusLoad('progress_gas') as df_gas:\n",
    "        with r.statusLoad('progress_s1') as df_s1:\n",
    "            with r.statusLoad('progress_s0') as df_s0:\n",
    "                with r.statusLoad('progress_s2') as df_s2:\n",
    "                    dfDict = {r.States.s0: df_s0, r.States.s1: df_s1, r.States.s2: df_s2}\n",
    "                    with r.monarchHandler() as mon:\n",
    "                        for fluorophore in fluorophoreList:\n",
    "                            for method in methodList:\n",
    "                                for basis in basisList:\n",
    "                                    for state in stateList:\n",
    "                                        status = df_gas.at[(fluorophore, method), state]\n",
    "                                        if status in [r.Status.SMD.failed, None] or resubmit:\n",
    "                                            xyzfile = ''\n",
    "                                            mofile = ''\n",
    "                                            catxyzpath = ''\n",
    "                                            scfstring = ''\n",
    "                                            kdiis = False\n",
    "                                            soscf = True\n",
    "                                            notrah = False\n",
    "\n",
    "                                            status_s0 = dfDict[r.States.s0].at[(fluorophore, method), r.Solvents.tol]\n",
    "\n",
    "                                            crest_refJob = r.Job(r.Software.crest, fluorophore, r.Solvents.tol, r.Methods.crest, r.Basis.none, r.PCM.alpb, r.PCM.Eq.none, r.States.s0, r.Jobs.crest)\n",
    "                                            wb_refJob = r.Job(r.Software.orca, fluorophore, r.Solvents.tol, r.Methods.wb97xd, r.Basis.augccpvdz, r.PCM.smd, r.PCM.Eq.eq, r.States.s0, r.Jobs.opt)\n",
    "                                            if status_s0 in [r.Status.Crest.finished, r.Status.SMD.finished, None] or resubmit == True:\n",
    "                                                if status_s0 == r.Status.SMD.finished:\n",
    "                                                    refJob = wb_refJob\n",
    "                                                else:\n",
    "                                                    print('ground state opt not finished, using CREST geom.')\n",
    "                                                    refJob = crest_refJob\n",
    "                                            else:\n",
    "                                                refJob = crest_refJob\n",
    "                                                \n",
    "                                            job = r.Job(r.Software.orca, fluorophore, r.Solvents.gas, method, basis, r.PCM.none, r.PCM.Eq.none, state, jobType, grid=grid,\n",
    "                                                        mopath=mofile, xyzpath=xyzfile, catxyzpath=refJob.xyzfile, kdiis=kdiis, soscf=soscf, notrah=notrah, scfstring=scfstring,\n",
    "                                                        submit=submit, submitFlags=f'-NSs', partner=partner, procs=cores, mem=memory)\n",
    "\n",
    "                                            fileName = mon.buildJob(job)\n",
    "\n",
    "                                            print(job.name)\n",
    "                                            if submit == True:\n",
    "                                                if resetStatus:\n",
    "                                                    df_gas.at[(fluorophore, method), state] = r.Status.SMD.queued\n",
    "                                        elif status in [r.Status.SMD.finished, r.Status.SMD.failed, r.Status.SMD.queued, r.Status.SMD.running]:\n",
    "                                            print(f'{fluorophore.name} Orca job already submitted, use \"resubmit\" to overwrite the job file')\n",
    "\n",
    "    print('Done!')\n",
    "\n",
    "widgets.interactive(submitORCA, {'manual' : True, 'manual_name' : 'Build ORCA Job'},\n",
    "                     jobType=widgets.Dropdown(options=r.Jobs, rows=6, description='Job Type'),\n",
    "                     fluorophoreList=widgets.SelectMultiple(options=fluorophores, rows=len(fluorophores), description='Fluorophore'),\n",
    "                     basisList=widgets.SelectMultiple(options=r.Basis, rows=15, description='Basis'),\n",
    "                     grid=widgets.Dropdown(options=r.Grids, rows=len(r.Grids), description='Grids', value=r.Grids.g75_302),\n",
    "                     methodList=widgets.SelectMultiple(options=r.Methods, rows=len(r.Methods), description='Method'),\n",
    "                     stateList=widgets.SelectMultiple(options=r.States, rows=4, description='States'),\n",
    "                     partner = widgets.Checkbox(value=True, description='Partner'),\n",
    "                     uses0 = widgets.Checkbox(value=False, description='Use S0 opt for higher root starting geometry', layout=layout),\n",
    "                     submit = widgets.Checkbox(value=False, description='Submit'),\n",
    "                     resubmit = widgets.Checkbox(value=False, description='ReSubmit'),\n",
    "                     resetStatus = widgets.Checkbox(value=False, description='Reset Status'),\n",
    "                     memory = widgets.IntText(value=64, description='Memory'),\n",
    "                     cores = widgets.IntText(value=16, description='Cores'),\n",
    "                     )"
   ]
  }
 ],
 "metadata": {
  "kernelspec": {
   "display_name": "Python 3.10.6 ('base')",
   "language": "python",
   "name": "python3"
  },
  "language_info": {
   "codemirror_mode": {
    "name": "ipython",
    "version": 3
   },
   "file_extension": ".py",
   "mimetype": "text/x-python",
   "name": "python",
   "nbconvert_exporter": "python",
   "pygments_lexer": "ipython3",
   "version": "3.10.6 | packaged by conda-forge | (main, Aug 22 2022, 20:41:22) [Clang 13.0.1 ]"
  },
  "orig_nbformat": 4,
  "vscode": {
   "interpreter": {
    "hash": "57a98dd3fd34ca33a510c061a3ce30012b81306cda07ac88455c2d94c66d4c08"
   }
  }
 },
 "nbformat": 4,
 "nbformat_minor": 2
}
