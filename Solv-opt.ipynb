{
 "cells": [
  {
   "cell_type": "code",
   "execution_count": 1,
   "metadata": {},
   "outputs": [
    {
     "data": {
      "text/html": [
       "<style>\n",
       "    .widget-label { min-width: 30ex !important; }\n",
       "    .widget-inline-hbox { min-width: 50ex !important; }\n",
       "</style>"
      ],
      "text/plain": [
       "<IPython.core.display.HTML object>"
      ]
     },
     "metadata": {},
     "output_type": "display_data"
    },
    {
     "data": {
      "application/vnd.jupyter.widget-view+json": {
       "model_id": "172250204af64cff8d38b2fe6d087f44",
       "version_major": 2,
       "version_minor": 0
      },
      "text/plain": [
       "interactive(children=(IntText(value=64, description='Memory'), IntText(value=16, description='Cores'), Checkbo…"
      ]
     },
     "metadata": {},
     "output_type": "display_data"
    }
   ],
   "source": [
    "import resources as r\n",
    "\n",
    "import ipywidgets as widgets\n",
    "from IPython.display import HTML, display\n",
    "\n",
    "display(HTML('''<style>\n",
    "    .widget-label { min-width: 30ex !important; }\n",
    "    .widget-inline-hbox { min-width: 50ex !important; }\n",
    "    .widget-button { min-width: max-content }\n",
    "</style>'''))\n",
    "layout = widgets.Layout(width='50%')\n",
    "\n",
    "fluorophores, solvents, methods = r.fluorophores_solvents_methods()\n",
    "basisOptions = r.Basis\n",
    "methodOptions = r.Methods\n",
    "\n",
    "def submitORCA(memory:int, cores:int, partner:bool, jobType:r.Jobs, stateList:list[r.States], grid:r.Grids, basisList:list[r.Basis], \n",
    "               methodList:list[r.Methods], solventList:list[r.Solvents], \n",
    "               fluorophoreList:list[r.Fluorophores], pcm:r.PCM, pcmEq:r.PCM.Eq, useXD: bool, useBest:bool, submit:bool, resubmit:bool) -> None:\n",
    "    with r.statusLoad('progress_s1') as df_s1:\n",
    "        with r.statusLoad('progress_s0') as df_s0:\n",
    "            with r.statusLoad('progress_s2') as df_s2:\n",
    "                dfDict = {r.States.s0: df_s0, r.States.s1: df_s1, r.States.s2: df_s2}\n",
    "                with r.monarchHandler() as mon:\n",
    "                    for fluorophore in fluorophoreList:\n",
    "                        for method in methodList:\n",
    "                            for solvent in solventList:\n",
    "                                for basis in basisList:\n",
    "                                    for state in stateList:\n",
    "                                        xyzfile = ''\n",
    "                                        mofile = ''\n",
    "                                        scfstring = ''\n",
    "                                        kdiis = False\n",
    "                                        soscf = True\n",
    "                                        notrah = False\n",
    "\n",
    "                                        status       = dfDict[state      ].at[(fluorophore, method          ), solvent]\n",
    "                                        status_gs    = dfDict[r.States.s0].at[(fluorophore, method          ), solvent]\n",
    "                                        status_gs_xd = dfDict[r.States.s0].at[(fluorophore, r.Methods.wb97xd), solvent]\n",
    "                                        status_state_xd = dfDict[state      ].at[(fluorophore, r.Methods.wb97xd), solvent]\n",
    "\n",
    "                                        xd_es_refjob = r.Job(r.Software.orca,  fluorophore, solvent, r.Methods.wb97xd, r.Basis.augccpvdz, r.PCM.smd,  r.PCM.Eq.eq,   state,       r.Jobs.opt)\n",
    "                                        xd_gs_refjob = r.Job(r.Software.orca,  fluorophore, solvent, r.Methods.wb97xd, r.Basis.augccpvdz, r.PCM.smd,  r.PCM.Eq.eq,   r.States.s0, r.Jobs.opt)\n",
    "                                        gs_refjob    = r.Job(r.Software.orca,  fluorophore, solvent, method,           r.Basis.augccpvdz, r.PCM.smd,  r.PCM.Eq.eq,   r.States.s0, r.Jobs.opt)\n",
    "                                        crest_refjob = r.Job(r.Software.crest, fluorophore, solvent, r.Methods.crest,  r.Basis.none,      r.PCM.alpb, r.PCM.Eq.none, r.States.s0, r.Jobs.crest)\n",
    "\n",
    "                                    if status in [r.Status.SMD.failed, None] or resubmit:\n",
    "                                        if useBest:\n",
    "                                            if useXD and status_state_xd == r.Status.SMD.finished:\n",
    "                                                refJob = xd_es_refjob\n",
    "                                                print('Using ωB97X-D ES geom')\n",
    "                                            elif useXD and status_gs_xd == r.Status.SMD.finished:\n",
    "                                                refJob = xd_gs_refjob\n",
    "                                                print('Using ωB97X-D GS geom')\n",
    "                                            elif status_gs == r.Status.SMD.finished:\n",
    "                                                refJob = gs_refjob\n",
    "                                            else:\n",
    "                                                refJob = crest_refjob\n",
    "                                                print('Using CREST geom')\n",
    "\n",
    "                                        elif useXD:\n",
    "                                            if status_state_xd == r.Status.SMD.finished:\n",
    "                                                refJob = xd_es_refjob\n",
    "                                            elif status_gs_xd == r.Status.SMD.finished:\n",
    "                                                refJob = xd_gs_refjob\n",
    "                                \n",
    "                                        else:\n",
    "                                            if status_gs == r.Status.SMD.finished:\n",
    "                                                refJob = gs_refjob\n",
    "\n",
    "                                        job = r.Job(r.Software.orca, fluorophore, solvent, method, basis, pcm, pcmEq, state, jobType, grid=grid,\n",
    "                                                    mopath=mofile, xyzpath=xyzfile, catxyzpath=refJob.xyzfile, kdiis=kdiis, soscf=soscf, notrah=notrah, scfstring=scfstring,\n",
    "                                                    submit=submit, submitFlags=f'-NSs', partner=partner, procs=cores, mem=memory)\n",
    "\n",
    "                                        fileName = mon.buildJob(job)\n",
    "\n",
    "                                        print(fileName)\n",
    "                                        if submit:\n",
    "                                            dfDict[state].at[(fluorophore, method), solvent] = r.Status.SMD.queued\n",
    "                                    elif status == r.Status.SMD.finished:\n",
    "                                        print(f'{fluorophore.name} Orca job already finished, use \"resubmit\" to overwrite the job file')\n",
    "\n",
    "                                    elif status in [r.Status.SMD.queued, r.Status.SMD.running]:    \n",
    "                                        print(f'{fluorophore.name} Orca job already submitted, use \"resubmit\" to overwrite the job file')\n",
    "\n",
    "                                    else:\n",
    "                                        raise Exception(\"This case has not been accounted for, Adrea...\")\n",
    "    print('Done!')\n",
    "\n",
    "widgets.interactive(submitORCA, {'manual' : True, 'manual_name' : 'Build ORCA Job'},\n",
    "                     jobType=widgets.Dropdown(options=r.Jobs, rows=6, description='Job Type'),\n",
    "                     fluorophoreList=widgets.SelectMultiple(options=fluorophores, rows=12, description='Fluorophore'),\n",
    "                     basisList=widgets.SelectMultiple(options=r.Basis, rows=15, description='Basis'),\n",
    "                     grid=widgets.Dropdown(options=r.Grids, rows=15, description='Grids', value=r.Grids.g75_302),\n",
    "                     pcm=widgets.Dropdown(options=r.PCM, rows=5, description='PCM', value=r.PCM.smd),\n",
    "                     pcmEq=widgets.Dropdown(options=r.PCM.Eq, rows=5, description='PCM Eq'),\n",
    "                     solventList=widgets.SelectMultiple(options=solvents, rows=12, description='Solvents'),\n",
    "                     methodList=widgets.SelectMultiple(options=r.Methods, rows=10, description='Method'),\n",
    "                     stateList=widgets.SelectMultiple(options=r.States, rows=4, description='States'),\n",
    "                     partner = widgets.Checkbox(value=True, description='Partner'),\n",
    "                     useBest = widgets.Checkbox(value=True, description='Use S0 if ES not ready', layout=layout),\n",
    "                     useXD = widgets.Checkbox(value=True, description='Use ωB97X-D opt for other functionals', layout=layout),\n",
    "                     submit = widgets.Checkbox(value=False, description='Submit'),\n",
    "                     resubmit = widgets.Checkbox(value=False, description='ReSubmit'),\n",
    "                     memory = widgets.IntText(value=64, description='Memory'),\n",
    "                     cores = widgets.IntText(value=16, description='Cores'),\n",
    "                     )"
   ]
  }
 ],
 "metadata": {
  "kernelspec": {
   "display_name": "Python 3.10.6 ('base')",
   "language": "python",
   "name": "python3"
  },
  "language_info": {
   "codemirror_mode": {
    "name": "ipython",
    "version": 3
   },
   "file_extension": ".py",
   "mimetype": "text/x-python",
   "name": "python",
   "nbconvert_exporter": "python",
   "pygments_lexer": "ipython3",
   "version": "3.10.8"
  },
  "orig_nbformat": 4,
  "vscode": {
   "interpreter": {
    "hash": "57a98dd3fd34ca33a510c061a3ce30012b81306cda07ac88455c2d94c66d4c08"
   }
  }
 },
 "nbformat": 4,
 "nbformat_minor": 2
}
