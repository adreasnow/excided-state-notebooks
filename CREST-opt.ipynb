{
 "cells": [
  {
   "cell_type": "code",
   "execution_count": 1,
   "metadata": {},
   "outputs": [
    {
     "data": {
      "text/html": [
       "<style>\n",
       "    .widget-label { min-width: 20ex !important; }\n",
       "</style>"
      ],
      "text/plain": [
       "<IPython.core.display.HTML object>"
      ]
     },
     "metadata": {},
     "output_type": "display_data"
    },
    {
     "data": {
      "application/vnd.jupyter.widget-view+json": {
       "model_id": "621ad91c8c694fabb2d45647d88f5bd6",
       "version_major": 2,
       "version_minor": 0
      },
      "text/plain": [
       "interactive(children=(Checkbox(value=True, description='Partner'), SelectMultiple(description='Key', options=(…"
      ]
     },
     "metadata": {},
     "output_type": "display_data"
    }
   ],
   "source": [
    "import pandas as pd\n",
    "import resources as r\n",
    "\n",
    "from ipywidgets import interact_manual\n",
    "import ipywidgets as widgets\n",
    "from IPython.display import HTML, display\n",
    "\n",
    "display(HTML('''<style>\n",
    "    .widget-label { min-width: 20ex !important; }\n",
    "</style>'''))\n",
    "\n",
    "\n",
    "fluorophores, solvents, methods = r.fluorophores_solvents_methods()\n",
    "\n",
    "\n",
    "indexList = ['']\n",
    "def submitCREST(partner:bool, indexList:list[r.Fluorophores], solventList:list[r.Solvents]):\n",
    "    with r.monarchHandler() as mon:\n",
    "        for fluorophore in indexList:\n",
    "            for solvent in solventList:\n",
    "                job = r.Job(r.Software.crest, fluorophore, solvent, r.Methods.crest, r.Basis.none, r.PCM.alpb, r.PCM.Eq.none, r.States.s0, r.Jobs.crest, submit=True, partner=partner)\n",
    "                mon.buildJob(job)\n",
    "    print('Done!')\n",
    "\n",
    "widgets.interactive(submitCREST, {'manual' : True, 'manual_name' : 'Submit CREST Job'},\n",
    "                        indexList=widgets.SelectMultiple(options=fluorophores, rows=12, description='Key'), \n",
    "                        solventList=widgets.SelectMultiple(options=solvents, rows=15, description='Solvent'),\n",
    "                        partner=widgets.Checkbox(value=True, description='Partner')\n",
    "                        )"
   ]
  }
 ],
 "metadata": {
  "kernelspec": {
   "display_name": "Python 3.9.13 ('base')",
   "language": "python",
   "name": "python3"
  },
  "language_info": {
   "codemirror_mode": {
    "name": "ipython",
    "version": 3
   },
   "file_extension": ".py",
   "mimetype": "text/x-python",
   "name": "python",
   "nbconvert_exporter": "python",
   "pygments_lexer": "ipython3",
   "version": "3.10.8 | packaged by conda-forge | (main, Nov 22 2022, 08:25:13) [Clang 14.0.6 ]"
  },
  "orig_nbformat": 4,
  "vscode": {
   "interpreter": {
    "hash": "57a98dd3fd34ca33a510c061a3ce30012b81306cda07ac88455c2d94c66d4c08"
   }
  }
 },
 "nbformat": 4,
 "nbformat_minor": 2
}
