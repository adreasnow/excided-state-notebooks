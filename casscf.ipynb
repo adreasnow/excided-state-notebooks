{
 "cells": [
  {
   "cell_type": "code",
   "execution_count": 1,
   "metadata": {},
   "outputs": [
    {
     "data": {
      "text/html": [
       "<style>\n",
       "    .widget-label { min-width: 30ex !important; }\n",
       "    .widget-inline-hbox { min-width: 50ex !important; }\n",
       "</style>"
      ],
      "text/plain": [
       "<IPython.core.display.HTML object>"
      ]
     },
     "metadata": {},
     "output_type": "display_data"
    },
    {
     "data": {
      "application/vnd.jupyter.widget-view+json": {
       "model_id": "2d2b2bf13e8c453393d7d97de996fadc",
       "version_major": 2,
       "version_minor": 0
      },
      "text/plain": [
       "interactive(children=(IntText(value=64, description='Memory'), IntText(value=16, description='Cores'), IntText…"
      ]
     },
     "metadata": {},
     "output_type": "display_data"
    }
   ],
   "source": [
    "import resources as r\n",
    "import ipywidgets as widgets\n",
    "from IPython.display import HTML, display\n",
    "\n",
    "display(HTML('''<style>\n",
    "    .widget-label { min-width: 30ex !important; }\n",
    "    .widget-inline-hbox { min-width: 50ex !important; }\n",
    "</style>'''))\n",
    "layout = widgets.Layout(width='50%')\n",
    "\n",
    "fluorophores, solvents, methods = r.fluorophores_solvents_methods()\n",
    "basisOptions = r.Basis\n",
    "methodOptions = r.Methods\n",
    "\n",
    "job = r.Job(r.Software.orca, r.Fluorophores.az, r.Solvents.gas, r.Methods.wb97xd, r.Basis.augccpvdz, r.PCM.none, r.PCM.Eq.none, r.Fluorophores.az.root, r.Jobs.opt)\n",
    "\n",
    "def submitCASSCF(memory:int, cores:int, time:int, partner:bool, norbs:int, nelec:int, nstates:int, useFActive:bool, basis:r.Basis, stateList:list[r.States],\n",
    "               fluorophoreList:list[r.Fluorophores], submit:bool, resubmit:bool) -> None:\n",
    "    with r.statusLoad('progress_gas') as df:\n",
    "        with r.monarchHandler() as mon:\n",
    "            for fluorophore in fluorophoreList:\n",
    "                for state in stateList:\n",
    "                    failed = False\n",
    "                    opt_status = df.at[(fluorophore, r.Methods.wb97xd), state]\n",
    "                    status = df.at[(fluorophore, r.Methods.casscf), state]\n",
    "                    refJob = r.Job(r.Software.orca, fluorophore, r.Solvents.gas, r.Methods.wb97xd, r.Basis.augccpvdz, r.PCM.none, r.PCM.Eq.none, state, r.Jobs.opt)\n",
    "\n",
    "                    if status in [None, r.Status.CASSCF.failed] or resubmit:\n",
    "                        if opt_status != r.Status.SMD.finished:\n",
    "                            print(f'{fluorophore.name} state {state} opt not finished')\n",
    "                            failed = True\n",
    "                        if useFActive:\n",
    "                            if fluorophore.active == (0,0):\n",
    "                                print('Fluorophore active space not defined')\n",
    "                                failed = True\n",
    "                            else:\n",
    "                                norbs, nelec = fluorophore.active\n",
    "                            \n",
    "                        if not failed:\n",
    "                            job = r.Job(r.Software.pyscf, fluorophore, r.Solvents.gas, r.Methods.casscf, basis , r.PCM.none, r.PCM.Eq.none, state,\n",
    "                                        r.Jobs.casscfOpt, catxyzpath=refJob.xyzfile, submit=submit, partner=partner, procs=cores, mem=memory, \n",
    "                                        casscf=(nelec, norbs), time=time, nroots=nstates)\n",
    "                            mon.buildJob(job)\n",
    "                            print(job.name)\n",
    "\n",
    "                            if submit:\n",
    "                                df.at[(fluorophore, r.Methods.casscf), state] = r.Status.CASSCF.queued\n",
    "                    elif status in [r.Status.CASSCF.finished, r.Status.CASSCF.queued, r.Status.CASSCF.running]:\n",
    "                        print(f'{fluorophore.name} Orca job already submitted, use \"resubmit\" to overwrite the job file')\n",
    "    print('Done!')\n",
    "\n",
    "widgets.interactive(submitCASSCF, {'manual' : True, 'manual_name' : 'Submit CASSCF Job'},\n",
    "                     fluorophoreList=widgets.SelectMultiple(options=fluorophores, rows=len(fluorophores), description='Fluorophore'),\n",
    "                     basis=widgets.Dropdown(options=r.Basis, value=r.Basis.augccpvdz, rows=15, description='Basis'),\n",
    "                     partner = widgets.Checkbox(value=False, description='Partner'),\n",
    "                     stateList = widgets.SelectMultiple(options=r.States, value=[r.States.s0], description='States'),\n",
    "                     submit = widgets.Checkbox(value=False, description='Submit'),\n",
    "                     resubmit = widgets.Checkbox(value=False, description='ReSubmit'),\n",
    "                     memory = widgets.IntText(value=64, description='Memory'),\n",
    "                     cores = widgets.IntText(value=16, description='Cores'),\n",
    "                     time = widgets.IntText(value=24, description='Hours'),\n",
    "                     norbs = widgets.IntText(value=10, description='CASSCF Orbitals'),\n",
    "                     nelec = widgets.IntText(value=10, description='CASSCF Electrons'),\n",
    "                     nstates = widgets.IntText(value=10, description='Number of states'),\n",
    "                     useFActive = widgets.Checkbox(value=False, description='Use Fluorophore Active Space', layout=layout),\n",
    "                     )"
   ]
  }
 ],
 "metadata": {
  "kernelspec": {
   "display_name": "Python 3.10.6 ('base')",
   "language": "python",
   "name": "python3"
  },
  "language_info": {
   "codemirror_mode": {
    "name": "ipython",
    "version": 3
   },
   "file_extension": ".py",
   "mimetype": "text/x-python",
   "name": "python",
   "nbconvert_exporter": "python",
   "pygments_lexer": "ipython3",
   "version": "3.10.6 | packaged by conda-forge | (main, Aug 22 2022, 20:41:22) [Clang 13.0.1 ]"
  },
  "orig_nbformat": 4,
  "vscode": {
   "interpreter": {
    "hash": "57a98dd3fd34ca33a510c061a3ce30012b81306cda07ac88455c2d94c66d4c08"
   }
  }
 },
 "nbformat": 4,
 "nbformat_minor": 2
}
