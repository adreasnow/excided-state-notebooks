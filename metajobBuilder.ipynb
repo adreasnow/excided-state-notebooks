{
 "cells": [
  {
   "cell_type": "code",
   "execution_count": 5,
   "metadata": {},
   "outputs": [
    {
     "data": {
      "application/vnd.jupyter.widget-view+json": {
       "model_id": "75f8ec37648e499faeda339f0bb2b9de",
       "version_major": 2,
       "version_minor": 0
      },
      "text/plain": [
       "HBox(children=(VBox(children=(HTML(value='System Settings'), IntText(value=64, description='Memory (GB)'), Int…"
      ]
     },
     "metadata": {},
     "output_type": "display_data"
    },
    {
     "data": {
      "application/vnd.jupyter.widget-view+json": {
       "model_id": "e38b079e5c154e04bbe59e841721e859",
       "version_major": 2,
       "version_minor": 0
      },
      "text/plain": [
       "HBox(children=(VBox(children=(HTML(value='Job Settings'), Dropdown(description='Geom Reference Job Type', opti…"
      ]
     },
     "metadata": {},
     "output_type": "display_data"
    },
    {
     "data": {
      "application/vnd.jupyter.widget-view+json": {
       "model_id": "123d80411630448fa28fb70615ce7e43",
       "version_major": 2,
       "version_minor": 0
      },
      "text/plain": [
       "interactive(children=(Button(description='Build Job', style=ButtonStyle()), Output()), _dom_classes=('widget-i…"
      ]
     },
     "metadata": {},
     "output_type": "display_data"
    },
    {
     "data": {
      "application/vnd.jupyter.widget-view+json": {
       "model_id": "597b7337063e480a8b73012e110a6eec",
       "version_major": 2,
       "version_minor": 0
      },
      "text/plain": [
       "Output()"
      ]
     },
     "metadata": {},
     "output_type": "display_data"
    },
    {
     "data": {
      "text/html": [
       "<style>\n",
       "    .widget-label { min-width: 25ex; }\n",
       "</style>"
      ],
      "text/plain": [
       "<IPython.core.display.HTML object>"
      ]
     },
     "metadata": {},
     "output_type": "display_data"
    }
   ],
   "source": [
    "import resources as r\n",
    "import ipywidgets as widgets\n",
    "from IPython.display import HTML, display\n",
    "from tqdm.notebook import tqdm_notebook\n",
    "from copy import deepcopy\n",
    "\n",
    "layout = widgets.Layout(width='50%')\n",
    "buttonLayout  = widgets.Layout(min_width='max-content')\n",
    "\n",
    "def extractIndices(df):\n",
    "    levels = len(df.index[0])\n",
    "    indexLists = [[] for i in range(levels)]\n",
    "    for row in df.index:\n",
    "        for count, level in enumerate(row):\n",
    "            if level not in indexLists[count]:\n",
    "                indexLists[count] += [level] \n",
    "    return [df.columns.to_list()] + indexLists\n",
    "\n",
    "with r.statusLoad(df='progress') as df:\n",
    "    solvents, fluorophores, states, metajobs = extractIndices(df)\n",
    "\n",
    "def submit() -> None:\n",
    "    out.clear_output()\n",
    "    with out:\n",
    "        with r.statusLoad(df='progress') as df:\n",
    "            solvents, fluorophores, states, metajobs = extractIndices(df)\n",
    "            metajob = jobType_widg.value\n",
    "            states = deepcopy(list(stateList_widg.value))\n",
    "            if not metajob.gs:\n",
    "                try: \n",
    "                    states.remove(r.States.s0)\n",
    "                    print(f'{r.States.s0} not logical with {metajob}')\n",
    "                except ValueError: pass\n",
    "            if not metajob.es:\n",
    "                try: \n",
    "                    states.remove(r.States.s1)\n",
    "                    print(f'{r.States.s1} not logical with {metajob}')\n",
    "                except ValueError: pass\n",
    "                try: \n",
    "                    states.remove(r.States.s2)\n",
    "                    print(f'{r.States.s2} not logical with {metajob}')\n",
    "                except ValueError: pass\n",
    "            for state in states:\n",
    "                for fluorophore in fluorophoreList_widg.value:\n",
    "                    for solvent in solventList_widg.value:\n",
    "                        if (fluorophore.gas) and (not fluorophore.revised) and (solvent != r.Solvents.gas):\n",
    "                            # print(f'{fluorophore} is gas-only and cannot be used with {solvent}')\n",
    "                            pass\n",
    "                        else:\n",
    "                            if (solvent != r.Solvents.gas) and (metajob.gasonly == True):\n",
    "                                print(f'Metajob {metajob} cannot be used with solvent')\n",
    "                            else:\n",
    "                                status = df.at[(fluorophore, state, metajob), solvent]\n",
    "                                refStatus = df.at[(fluorophore, refJobState_widg.value, refJobType_widg.value), solvent]\n",
    "                                if refStatus == r.Status.finished:\n",
    "                                    if (status != r.Status.finished) or resubmit_widg.value:\n",
    "                                        refJob = r.Job.from_MetaJob(refJobType_widg.value, fluorophore, solvent, refJobState_widg.value)\n",
    "                                        job = r.Job.from_MetaJob(metajob, fluorophore, solvent, state, catxyzpath=refJob.xyzfile, submit=submit_widg.value, \n",
    "                                                                    partner=partner_widg.value, procs=cores_widg.value, \n",
    "                                                                    mem=memory_widg.value, time=(time_widg.value*24),\n",
    "                                                                    # ORCA Specific\n",
    "                                                                    kdiis=orca_kdiis_widg.value, soscf=orca_soscf_widg.value, \n",
    "                                                                    notrah=orca_notrah_widg.value, scfstring=orca_scfstring_widg.value)\n",
    "                                        with r.monarchHandler() as mon:\n",
    "                                            fileName = mon.buildJob(job)\n",
    "\n",
    "                                        if submit_widg.value == True:\n",
    "                                                df.at[(fluorophore, state, metajob), solvent] = r.Status.queued\n",
    "                                    else:\n",
    "                                        print(f'{metajob} of state {state}of {fluorophore} in {solvent} already finished')\n",
    "                                else:\n",
    "                                    print(f'Reference job: {refJobType_widg.value} of state {state} of {fluorophore} in {solvent} not finished')\n",
    "        print('Done!')\n",
    "\n",
    "\n",
    "func = widgets.interactive(submit, {'manual' : True, 'manual_name' : 'Build Job'},)\n",
    "\n",
    "jobType_widg = widgets.Dropdown(options=metajobs, rows=len(metajobs), value=r.MetaJobs.or_wb_freq_gs, description='Job Type')\n",
    "refJobType_widg  = widgets.Dropdown(options=metajobs, rows=len(metajobs), value=r.MetaJobs.or_wb_opt_gs, description='Geom Reference Job Type')\n",
    "refJobState_widg  = widgets.Dropdown(options=states, rows=len(states), value=r.States.s0, description='Geom Reference Job State')\n",
    "fluorophoreList_widg = widgets.SelectMultiple(options=fluorophores, rows=len(fluorophores), description='Fluorophore')\n",
    "solventList_widg = widgets.SelectMultiple(options=solvents, rows=len(solvents), description='Solvents')\n",
    "stateList_widg = widgets.SelectMultiple(options=states, rows=len(states), description='States')\n",
    "\n",
    "# useBest_widg = widgets.ToggleButton(value=True, icon='check', description='Use S0 if ES not ready', layout=buttonLayout)\n",
    "# useXD_widg = widgets.ToggleButton(value=True, icon='check', description='Use ωB97X-D opt for other functionals', layout=buttonLayout)\n",
    "submit_widg = widgets.ToggleButton(value=False, icon='check', description='Submit', layout=buttonLayout)\n",
    "resubmit_widg = widgets.ToggleButton(value=False, icon='check', description='ReSubmit', layout=buttonLayout)\n",
    "\n",
    "\n",
    "memory_widg = widgets.IntText(value=64, description='Memory (GB)')\n",
    "time_widg = widgets.IntText(value=1, description='Job Time (days)')\n",
    "cores_widg = widgets.IntText(value=16, description='Cores')\n",
    "partner_widg = widgets.ToggleButton(value=True, icon='check', description='Partner', layout=buttonLayout)\n",
    "\n",
    "system = widgets.VBox([widgets.HTML('System Settings'),\n",
    "                       memory_widg, \n",
    "                       cores_widg,\n",
    "                       time_widg\n",
    "                       ])\n",
    "submit = widgets.VBox([widgets.HTML('Submission Settings'),\n",
    "                       submit_widg, \n",
    "                       resubmit_widg,\n",
    "                       partner_widg\n",
    "                       ])\n",
    "\n",
    "job = widgets.VBox([widgets.HTML('Job Settings'),\n",
    "                       refJobType_widg,\n",
    "                       refJobState_widg,\n",
    "                       jobType_widg, \n",
    "                       fluorophoreList_widg, \n",
    "                       solventList_widg, \n",
    "                       stateList_widg\n",
    "                       ])\n",
    "\n",
    "out = widgets.Output()\n",
    "\n",
    "orca_kdiis_widg = widgets.ToggleButton(value=False, icon='check', description='KDIIS', layout=buttonLayout)\n",
    "orca_soscf_widg = widgets.ToggleButton(value=True, icon='check', description='SOSCF', layout=buttonLayout)\n",
    "orca_notrah_widg = widgets.ToggleButton(value=True, icon='check', description='NoTRAH', layout=buttonLayout)\n",
    "orca_scfstring_widg = widgets.Text(value='', description='SCF String', layout=widgets.Layout(width='300px'))\n",
    "orca = widgets.VBox([orca_kdiis_widg ,\n",
    "                     orca_soscf_widg,\n",
    "                     orca_notrah_widg,\n",
    "                     orca_scfstring_widg])\n",
    "\n",
    "children = [orca]\n",
    "tab = widgets.Tab()\n",
    "tab.children = children\n",
    "tab.set_title(0, 'ORCA')\n",
    "\n",
    "display(widgets.HBox([system, submit]), widgets.HBox([job, widgets.VBox([widgets.HTML('Program Specific'),tab])]), func, out)\n",
    "display(HTML('''<style>\n",
    "    .widget-label { min-width: 25ex; }\n",
    "</style>'''))\n"
   ]
  }
 ],
 "metadata": {
  "kernelspec": {
   "display_name": "base",
   "language": "python",
   "name": "python3"
  },
  "language_info": {
   "codemirror_mode": {
    "name": "ipython",
    "version": 3
   },
   "file_extension": ".py",
   "mimetype": "text/x-python",
   "name": "python",
   "nbconvert_exporter": "python",
   "pygments_lexer": "ipython3",
   "version": "3.10.8 | packaged by conda-forge | (main, Nov 22 2022, 08:25:29) [Clang 14.0.6 ]"
  },
  "orig_nbformat": 4,
  "vscode": {
   "interpreter": {
    "hash": "57a98dd3fd34ca33a510c061a3ce30012b81306cda07ac88455c2d94c66d4c08"
   }
  }
 },
 "nbformat": 4,
 "nbformat_minor": 2
}
